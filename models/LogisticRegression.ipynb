{
 "cells": [
  {
   "cell_type": "code",
   "execution_count": 113,
   "metadata": {
    "collapsed": false
   },
   "outputs": [],
   "source": [
    "import numpy as np\n",
    "import pandas as pd\n",
    "import matplotlib.pyplot as plt\n",
    "from sklearn.linear_model import LogisticRegression\n",
    "from sklearn.cross_validation import train_test_split\n",
    "from sklearn import metrics\n",
    "from sklearn.cross_validation import cross_val_score\n",
    "from sklearn.ensemble import RandomForestClassifier\n",
    "from patsy import dmatrices"
   ]
  },
  {
   "cell_type": "code",
   "execution_count": 5,
   "metadata": {
    "collapsed": false
   },
   "outputs": [],
   "source": [
    "dta = pd.read_csv('../data/dayData.csv')"
   ]
  },
  {
   "cell_type": "code",
   "execution_count": 9,
   "metadata": {
    "collapsed": false
   },
   "outputs": [
    {
     "data": {
      "text/html": [
       "<div>\n",
       "<table border=\"1\" class=\"dataframe\">\n",
       "  <thead>\n",
       "    <tr style=\"text-align: right;\">\n",
       "      <th></th>\n",
       "      <th>household_key</th>\n",
       "      <th>DAY</th>\n",
       "      <th>QUANTITY</th>\n",
       "      <th>BASE_SPEND_AMT</th>\n",
       "      <th>NET_SPEND_AMT</th>\n",
       "      <th>LOY_CARD_DISC</th>\n",
       "      <th>COUPON_DISC</th>\n",
       "      <th>GET_EGGS</th>\n",
       "    </tr>\n",
       "  </thead>\n",
       "  <tbody>\n",
       "    <tr>\n",
       "      <th>count</th>\n",
       "      <td>25797.000000</td>\n",
       "      <td>25797.000000</td>\n",
       "      <td>25797.000000</td>\n",
       "      <td>25797.000000</td>\n",
       "      <td>25797.000000</td>\n",
       "      <td>25797.000000</td>\n",
       "      <td>25797.000000</td>\n",
       "      <td>25797.000000</td>\n",
       "    </tr>\n",
       "    <tr>\n",
       "      <th>mean</th>\n",
       "      <td>505.790402</td>\n",
       "      <td>101.607086</td>\n",
       "      <td>14.598752</td>\n",
       "      <td>42.941644</td>\n",
       "      <td>36.737954</td>\n",
       "      <td>-6.060541</td>\n",
       "      <td>-0.143149</td>\n",
       "      <td>0.146063</td>\n",
       "    </tr>\n",
       "    <tr>\n",
       "      <th>std</th>\n",
       "      <td>292.033469</td>\n",
       "      <td>58.799244</td>\n",
       "      <td>17.332974</td>\n",
       "      <td>51.432689</td>\n",
       "      <td>43.380989</td>\n",
       "      <td>8.682502</td>\n",
       "      <td>0.921875</td>\n",
       "      <td>0.367696</td>\n",
       "    </tr>\n",
       "    <tr>\n",
       "      <th>min</th>\n",
       "      <td>1.000000</td>\n",
       "      <td>0.000000</td>\n",
       "      <td>1.000000</td>\n",
       "      <td>0.210000</td>\n",
       "      <td>0.210000</td>\n",
       "      <td>-208.020000</td>\n",
       "      <td>-43.280000</td>\n",
       "      <td>0.000000</td>\n",
       "    </tr>\n",
       "    <tr>\n",
       "      <th>25%</th>\n",
       "      <td>257.000000</td>\n",
       "      <td>51.000000</td>\n",
       "      <td>3.000000</td>\n",
       "      <td>10.060000</td>\n",
       "      <td>8.970000</td>\n",
       "      <td>-7.830000</td>\n",
       "      <td>0.000000</td>\n",
       "      <td>0.000000</td>\n",
       "    </tr>\n",
       "    <tr>\n",
       "      <th>50%</th>\n",
       "      <td>511.000000</td>\n",
       "      <td>102.000000</td>\n",
       "      <td>8.000000</td>\n",
       "      <td>24.190000</td>\n",
       "      <td>21.010000</td>\n",
       "      <td>-2.970000</td>\n",
       "      <td>0.000000</td>\n",
       "      <td>0.000000</td>\n",
       "    </tr>\n",
       "    <tr>\n",
       "      <th>75%</th>\n",
       "      <td>761.000000</td>\n",
       "      <td>152.000000</td>\n",
       "      <td>19.000000</td>\n",
       "      <td>55.730000</td>\n",
       "      <td>47.560000</td>\n",
       "      <td>-0.790000</td>\n",
       "      <td>0.000000</td>\n",
       "      <td>0.000000</td>\n",
       "    </tr>\n",
       "    <tr>\n",
       "      <th>max</th>\n",
       "      <td>1000.000000</td>\n",
       "      <td>204.000000</td>\n",
       "      <td>261.000000</td>\n",
       "      <td>816.790000</td>\n",
       "      <td>681.650000</td>\n",
       "      <td>0.000000</td>\n",
       "      <td>0.000000</td>\n",
       "      <td>3.000000</td>\n",
       "    </tr>\n",
       "  </tbody>\n",
       "</table>\n",
       "</div>"
      ],
      "text/plain": [
       "       household_key           DAY      QUANTITY  BASE_SPEND_AMT  \\\n",
       "count   25797.000000  25797.000000  25797.000000    25797.000000   \n",
       "mean      505.790402    101.607086     14.598752       42.941644   \n",
       "std       292.033469     58.799244     17.332974       51.432689   \n",
       "min         1.000000      0.000000      1.000000        0.210000   \n",
       "25%       257.000000     51.000000      3.000000       10.060000   \n",
       "50%       511.000000    102.000000      8.000000       24.190000   \n",
       "75%       761.000000    152.000000     19.000000       55.730000   \n",
       "max      1000.000000    204.000000    261.000000      816.790000   \n",
       "\n",
       "       NET_SPEND_AMT  LOY_CARD_DISC   COUPON_DISC      GET_EGGS  \n",
       "count   25797.000000   25797.000000  25797.000000  25797.000000  \n",
       "mean       36.737954      -6.060541     -0.143149      0.146063  \n",
       "std        43.380989       8.682502      0.921875      0.367696  \n",
       "min         0.210000    -208.020000    -43.280000      0.000000  \n",
       "25%         8.970000      -7.830000      0.000000      0.000000  \n",
       "50%        21.010000      -2.970000      0.000000      0.000000  \n",
       "75%        47.560000      -0.790000      0.000000      0.000000  \n",
       "max       681.650000       0.000000      0.000000      3.000000  "
      ]
     },
     "execution_count": 9,
     "metadata": {},
     "output_type": "execute_result"
    }
   ],
   "source": [
    "dta.describe()"
   ]
  },
  {
   "cell_type": "code",
   "execution_count": 8,
   "metadata": {
    "collapsed": false
   },
   "outputs": [],
   "source": [
    "dta = dta.drop('Unnamed: 0', 1)"
   ]
  },
  {
   "cell_type": "code",
   "execution_count": 21,
   "metadata": {
    "collapsed": false
   },
   "outputs": [],
   "source": [
    "y, X = dmatrices('GET_EGGS ~ DAY + QUANTITY + BASE_SPEND_AMT + NET_SPEND_AMT + LOY_CARD_DISC + COUPON_DISC', dta, return_type=\"dataframe\")"
   ]
  },
  {
   "cell_type": "code",
   "execution_count": 26,
   "metadata": {
    "collapsed": false
   },
   "outputs": [
    {
     "name": "stderr",
     "output_type": "stream",
     "text": [
      "/usr/local/lib/python3.5/dist-packages/sklearn/utils/validation.py:526: DataConversionWarning: A column-vector y was passed when a 1d array was expected. Please change the shape of y to (n_samples, ), for example using ravel().\n",
      "  y = column_or_1d(y, warn=True)\n"
     ]
    },
    {
     "data": {
      "text/plain": [
       "LogisticRegression(C=1.0, class_weight=None, dual=False, fit_intercept=True,\n",
       "          intercept_scaling=1, max_iter=100, multi_class='ovr', n_jobs=1,\n",
       "          penalty='l2', random_state=None, solver='liblinear', tol=0.0001,\n",
       "          verbose=0, warm_start=False)"
      ]
     },
     "execution_count": 26,
     "metadata": {},
     "output_type": "execute_result"
    }
   ],
   "source": [
    "X_train, X_test, y_train, y_test = train_test_split(X, y, test_size=0.3, random_state=0)\n",
    "model = LogisticRegression()\n",
    "model.fit(X_train, y_train)"
   ]
  },
  {
   "cell_type": "code",
   "execution_count": 120,
   "metadata": {
    "collapsed": false
   },
   "outputs": [
    {
     "name": "stdout",
     "output_type": "stream",
     "text": [
      "[ 0.  0.  0. ...,  0.  0.  0.]\n"
     ]
    }
   ],
   "source": [
    "predicted = model.predict(X_test)\n",
    "print(predicted)"
   ]
  },
  {
   "cell_type": "code",
   "execution_count": 49,
   "metadata": {
    "collapsed": false
   },
   "outputs": [
    {
     "name": "stdout",
     "output_type": "stream",
     "text": [
      "[[  9.06108658e-01   9.06275074e-02   3.22083016e-03   4.30044867e-05]\n",
      " [  9.02909100e-01   9.25835670e-02   3.98556428e-03   5.21768985e-04]\n",
      " [  9.34581238e-01   6.19655506e-02   2.93718244e-03   5.16028743e-04]\n",
      " ..., \n",
      " [  9.15034667e-01   8.09995977e-02   3.38595095e-03   5.79784829e-04]\n",
      " [  9.11912632e-01   8.47456278e-02   3.27385264e-03   6.78873830e-05]\n",
      " [  9.32026272e-01   6.48839839e-02   2.89278984e-03   1.96954347e-04]]\n"
     ]
    }
   ],
   "source": [
    "probs = model.predict_proba(X_test)\n",
    "print(probs)"
   ]
  },
  {
   "cell_type": "code",
   "execution_count": 121,
   "metadata": {
    "collapsed": false
   },
   "outputs": [
    {
     "data": {
      "text/plain": [
       "0.034496124031007755"
      ]
     },
     "execution_count": 121,
     "metadata": {},
     "output_type": "execute_result"
    }
   ],
   "source": [
    "metrics.brier_score_loss(y_test, predicted)"
   ]
  },
  {
   "cell_type": "code",
   "execution_count": 94,
   "metadata": {
    "collapsed": false
   },
   "outputs": [
    {
     "name": "stdout",
     "output_type": "stream",
     "text": [
      "2633.0\n",
      "18057\n",
      "7740\n"
     ]
    }
   ],
   "source": [
    "print(y_train.sum(axis=0)[0])\n",
    "print(y_train.shape[0])\n",
    "freq = y_train.sum(axis=0)[0] / y_train.shape[0]\n",
    "print(y_test.shape[0])\n",
    "predicted = [0.0001 for idx in range(0, y_test.shape[0])]"
   ]
  },
  {
   "cell_type": "code",
   "execution_count": 101,
   "metadata": {
    "collapsed": false
   },
   "outputs": [
    {
     "data": {
      "text/plain": [
       "0.0    6643\n",
       "1.0    1061\n",
       "2.0      34\n",
       "3.0       2\n",
       "Name: GET_EGGS, dtype: int64"
      ]
     },
     "execution_count": 101,
     "metadata": {},
     "output_type": "execute_result"
    }
   ],
   "source": [
    "y_test['GET_EGGS'].value_counts()"
   ]
  },
  {
   "cell_type": "code",
   "execution_count": 111,
   "metadata": {
    "collapsed": false
   },
   "outputs": [
    {
     "data": {
      "text/plain": [
       "267"
      ]
     },
     "execution_count": 111,
     "metadata": {},
     "output_type": "execute_result"
    }
   ],
   "source": [
    "np.count_nonzero(predicted==1)"
   ]
  },
  {
   "cell_type": "code",
   "execution_count": 115,
   "metadata": {
    "collapsed": false
   },
   "outputs": [
    {
     "name": "stderr",
     "output_type": "stream",
     "text": [
      "/usr/local/lib/python3.5/dist-packages/ipykernel/__main__.py:2: DataConversionWarning: A column-vector y was passed when a 1d array was expected. Please change the shape of y to (n_samples,), for example using ravel().\n",
      "  from ipykernel import kernelapp as app\n"
     ]
    },
    {
     "data": {
      "text/plain": [
       "RandomForestClassifier(bootstrap=True, class_weight=None, criterion='gini',\n",
       "            max_depth=None, max_features='auto', max_leaf_nodes=None,\n",
       "            min_impurity_split=1e-07, min_samples_leaf=1,\n",
       "            min_samples_split=2, min_weight_fraction_leaf=0.0,\n",
       "            n_estimators=10, n_jobs=1, oob_score=False, random_state=None,\n",
       "            verbose=0, warm_start=False)"
      ]
     },
     "execution_count": 115,
     "metadata": {},
     "output_type": "execute_result"
    }
   ],
   "source": [
    "model2 = RandomForestClassifier()\n",
    "model2.fit(X_train, y_train)"
   ]
  },
  {
   "cell_type": "code",
   "execution_count": 118,
   "metadata": {
    "collapsed": false
   },
   "outputs": [
    {
     "name": "stdout",
     "output_type": "stream",
     "text": [
      "[ 0.  0.  0. ...,  0.  0.  0.]\n"
     ]
    }
   ],
   "source": [
    "prediction2 = model2.predict(X_test)\n",
    "print(prediction2)"
   ]
  },
  {
   "cell_type": "code",
   "execution_count": 119,
   "metadata": {
    "collapsed": false
   },
   "outputs": [
    {
     "data": {
      "text/plain": [
       "0.050775193798449615"
      ]
     },
     "execution_count": 119,
     "metadata": {},
     "output_type": "execute_result"
    }
   ],
   "source": [
    "metrics.brier_score_loss(y_test, prediction2)"
   ]
  },
  {
   "cell_type": "code",
   "execution_count": null,
   "metadata": {
    "collapsed": true
   },
   "outputs": [],
   "source": []
  }
 ],
 "metadata": {
  "kernelspec": {
   "display_name": "Python 3",
   "language": "python",
   "name": "python3"
  },
  "language_info": {
   "codemirror_mode": {
    "name": "ipython",
    "version": 3
   },
   "file_extension": ".py",
   "mimetype": "text/x-python",
   "name": "python",
   "nbconvert_exporter": "python",
   "pygments_lexer": "ipython3",
   "version": "3.5.2"
  }
 },
 "nbformat": 4,
 "nbformat_minor": 1
}
