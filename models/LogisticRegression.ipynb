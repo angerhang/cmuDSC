{
 "cells": [
  {
   "cell_type": "code",
   "execution_count": 27,
   "metadata": {
    "collapsed": false
   },
   "outputs": [],
   "source": [
    "# Import packages\n",
    "\n",
    "import numpy as np\n",
    "import pandas as pd\n",
    "import matplotlib.pyplot as plt\n",
    "from sklearn.linear_model import LogisticRegression\n",
    "from sklearn.cross_validation import train_test_split\n",
    "from sklearn import metrics\n",
    "from sklearn.cross_validation import cross_val_score\n",
    "from sklearn.ensemble import RandomForestClassifier\n",
    "from patsy import dmatrices"
   ]
  },
  {
   "cell_type": "code",
   "execution_count": 28,
   "metadata": {
    "collapsed": false
   },
   "outputs": [],
   "source": [
    "dta = pd.read_csv('../data/weekData.csv')"
   ]
  },
  {
   "cell_type": "code",
   "execution_count": 29,
   "metadata": {
    "collapsed": false
   },
   "outputs": [
    {
     "data": {
      "text/html": [
       "<div>\n",
       "<table border=\"1\" class=\"dataframe\">\n",
       "  <thead>\n",
       "    <tr style=\"text-align: right;\">\n",
       "      <th></th>\n",
       "      <th>Unnamed: 0</th>\n",
       "      <th>household_key</th>\n",
       "      <th>QUANTITY</th>\n",
       "      <th>BASE_SPEND_AMT</th>\n",
       "      <th>NET_SPEND_AMT</th>\n",
       "      <th>LOY_CARD_DISC</th>\n",
       "      <th>COUPON_DISC</th>\n",
       "      <th>GET_EGGS</th>\n",
       "      <th>WEEK</th>\n",
       "      <th>NEXT_EGGS</th>\n",
       "      <th>X</th>\n",
       "      <th>BASKET_ID</th>\n",
       "      <th>PRODUCT_ID</th>\n",
       "    </tr>\n",
       "  </thead>\n",
       "  <tbody>\n",
       "    <tr>\n",
       "      <th>count</th>\n",
       "      <td>27076.000000</td>\n",
       "      <td>27076.000000</td>\n",
       "      <td>27076.000000</td>\n",
       "      <td>27076.000000</td>\n",
       "      <td>27076.000000</td>\n",
       "      <td>27076.000000</td>\n",
       "      <td>27076.000000</td>\n",
       "      <td>27076.000000</td>\n",
       "      <td>27076.000000</td>\n",
       "      <td>27076.000000</td>\n",
       "      <td>27076.000000</td>\n",
       "      <td>2.707600e+04</td>\n",
       "      <td>2.707600e+04</td>\n",
       "    </tr>\n",
       "    <tr>\n",
       "      <th>mean</th>\n",
       "      <td>13538.500000</td>\n",
       "      <td>504.015512</td>\n",
       "      <td>13.229908</td>\n",
       "      <td>38.945442</td>\n",
       "      <td>33.333592</td>\n",
       "      <td>-5.479414</td>\n",
       "      <td>-0.132436</td>\n",
       "      <td>0.217868</td>\n",
       "      <td>14.500000</td>\n",
       "      <td>0.133033</td>\n",
       "      <td>27661.825233</td>\n",
       "      <td>3.568014e+10</td>\n",
       "      <td>1.196953e+06</td>\n",
       "    </tr>\n",
       "    <tr>\n",
       "      <th>std</th>\n",
       "      <td>7816.312281</td>\n",
       "      <td>289.027343</td>\n",
       "      <td>21.843034</td>\n",
       "      <td>65.189523</td>\n",
       "      <td>55.231095</td>\n",
       "      <td>10.510180</td>\n",
       "      <td>0.971411</td>\n",
       "      <td>0.412805</td>\n",
       "      <td>8.077896</td>\n",
       "      <td>0.374280</td>\n",
       "      <td>45630.758174</td>\n",
       "      <td>1.990048e+09</td>\n",
       "      <td>1.682116e+06</td>\n",
       "    </tr>\n",
       "    <tr>\n",
       "      <th>min</th>\n",
       "      <td>1.000000</td>\n",
       "      <td>1.000000</td>\n",
       "      <td>0.000000</td>\n",
       "      <td>0.000000</td>\n",
       "      <td>0.000000</td>\n",
       "      <td>-455.260000</td>\n",
       "      <td>-48.880000</td>\n",
       "      <td>0.000000</td>\n",
       "      <td>1.000000</td>\n",
       "      <td>0.000000</td>\n",
       "      <td>1.000000</td>\n",
       "      <td>3.457753e+10</td>\n",
       "      <td>3.291600e+04</td>\n",
       "    </tr>\n",
       "    <tr>\n",
       "      <th>25%</th>\n",
       "      <td>6769.750000</td>\n",
       "      <td>253.000000</td>\n",
       "      <td>0.000000</td>\n",
       "      <td>0.000000</td>\n",
       "      <td>0.000000</td>\n",
       "      <td>-6.970000</td>\n",
       "      <td>0.000000</td>\n",
       "      <td>0.000000</td>\n",
       "      <td>7.750000</td>\n",
       "      <td>0.000000</td>\n",
       "      <td>3019.000000</td>\n",
       "      <td>3.464284e+10</td>\n",
       "      <td>8.313900e+05</td>\n",
       "    </tr>\n",
       "    <tr>\n",
       "      <th>50%</th>\n",
       "      <td>13538.500000</td>\n",
       "      <td>506.000000</td>\n",
       "      <td>2.000000</td>\n",
       "      <td>5.080000</td>\n",
       "      <td>4.575000</td>\n",
       "      <td>0.000000</td>\n",
       "      <td>0.000000</td>\n",
       "      <td>0.000000</td>\n",
       "      <td>14.500000</td>\n",
       "      <td>0.000000</td>\n",
       "      <td>9927.000000</td>\n",
       "      <td>3.483741e+10</td>\n",
       "      <td>8.567160e+05</td>\n",
       "    </tr>\n",
       "    <tr>\n",
       "      <th>75%</th>\n",
       "      <td>20307.250000</td>\n",
       "      <td>756.000000</td>\n",
       "      <td>19.000000</td>\n",
       "      <td>54.510000</td>\n",
       "      <td>46.905000</td>\n",
       "      <td>0.000000</td>\n",
       "      <td>0.000000</td>\n",
       "      <td>0.000000</td>\n",
       "      <td>21.250000</td>\n",
       "      <td>0.000000</td>\n",
       "      <td>28176.000000</td>\n",
       "      <td>3.538682e+10</td>\n",
       "      <td>9.294330e+05</td>\n",
       "    </tr>\n",
       "    <tr>\n",
       "      <th>max</th>\n",
       "      <td>27076.000000</td>\n",
       "      <td>1000.000000</td>\n",
       "      <td>286.000000</td>\n",
       "      <td>1551.110000</td>\n",
       "      <td>1046.970000</td>\n",
       "      <td>0.000000</td>\n",
       "      <td>0.000000</td>\n",
       "      <td>1.000000</td>\n",
       "      <td>28.000000</td>\n",
       "      <td>4.000000</td>\n",
       "      <td>278461.000000</td>\n",
       "      <td>4.209784e+10</td>\n",
       "      <td>1.574167e+07</td>\n",
       "    </tr>\n",
       "  </tbody>\n",
       "</table>\n",
       "</div>"
      ],
      "text/plain": [
       "         Unnamed: 0  household_key      QUANTITY  BASE_SPEND_AMT  \\\n",
       "count  27076.000000   27076.000000  27076.000000    27076.000000   \n",
       "mean   13538.500000     504.015512     13.229908       38.945442   \n",
       "std     7816.312281     289.027343     21.843034       65.189523   \n",
       "min        1.000000       1.000000      0.000000        0.000000   \n",
       "25%     6769.750000     253.000000      0.000000        0.000000   \n",
       "50%    13538.500000     506.000000      2.000000        5.080000   \n",
       "75%    20307.250000     756.000000     19.000000       54.510000   \n",
       "max    27076.000000    1000.000000    286.000000     1551.110000   \n",
       "\n",
       "       NET_SPEND_AMT  LOY_CARD_DISC   COUPON_DISC      GET_EGGS          WEEK  \\\n",
       "count   27076.000000   27076.000000  27076.000000  27076.000000  27076.000000   \n",
       "mean       33.333592      -5.479414     -0.132436      0.217868     14.500000   \n",
       "std        55.231095      10.510180      0.971411      0.412805      8.077896   \n",
       "min         0.000000    -455.260000    -48.880000      0.000000      1.000000   \n",
       "25%         0.000000      -6.970000      0.000000      0.000000      7.750000   \n",
       "50%         4.575000       0.000000      0.000000      0.000000     14.500000   \n",
       "75%        46.905000       0.000000      0.000000      0.000000     21.250000   \n",
       "max      1046.970000       0.000000      0.000000      1.000000     28.000000   \n",
       "\n",
       "          NEXT_EGGS              X     BASKET_ID    PRODUCT_ID  \n",
       "count  27076.000000   27076.000000  2.707600e+04  2.707600e+04  \n",
       "mean       0.133033   27661.825233  3.568014e+10  1.196953e+06  \n",
       "std        0.374280   45630.758174  1.990048e+09  1.682116e+06  \n",
       "min        0.000000       1.000000  3.457753e+10  3.291600e+04  \n",
       "25%        0.000000    3019.000000  3.464284e+10  8.313900e+05  \n",
       "50%        0.000000    9927.000000  3.483741e+10  8.567160e+05  \n",
       "75%        0.000000   28176.000000  3.538682e+10  9.294330e+05  \n",
       "max        4.000000  278461.000000  4.209784e+10  1.574167e+07  "
      ]
     },
     "execution_count": 29,
     "metadata": {},
     "output_type": "execute_result"
    }
   ],
   "source": [
    "dta.describe()"
   ]
  },
  {
   "cell_type": "code",
   "execution_count": 30,
   "metadata": {
    "collapsed": false
   },
   "outputs": [],
   "source": [
    "dta = dta.drop('Unnamed: 0', 1)"
   ]
  },
  {
   "cell_type": "code",
   "execution_count": 31,
   "metadata": {
    "collapsed": false
   },
   "outputs": [],
   "source": [
    "# Create X and y matrices\n",
    "# X is the input feature matrix\n",
    "# y is the column vector of the parameter we want to predict\n",
    "\n",
    "y, X = dmatrices('NEXT_EGGS ~ QUANTITY + BASE_SPEND_AMT + NET_SPEND_AMT + LOY_CARD_DISC + COUPON_DISC + GET_EGGS', dta, return_type=\"dataframe\")"
   ]
  },
  {
   "cell_type": "code",
   "execution_count": 32,
   "metadata": {
    "collapsed": false
   },
   "outputs": [
    {
     "name": "stdout",
     "output_type": "stream",
     "text": [
      "0.0    23783\n",
      "1.0     3007\n",
      "2.0      266\n",
      "3.0       17\n",
      "4.0        3\n",
      "Name: NEXT_EGGS, dtype: int64\n",
      "0.133032944305\n"
     ]
    }
   ],
   "source": [
    "# Percentage of data with eggs\n",
    "\n",
    "print(y['NEXT_EGGS'].value_counts())\n",
    "freq = y.sum(axis=0)[0] / y.shape[0]\n",
    "print(freq)"
   ]
  },
  {
   "cell_type": "code",
   "execution_count": 33,
   "metadata": {
    "collapsed": true
   },
   "outputs": [],
   "source": [
    "# Cross Validation folds with 20/80 split\n",
    "\n",
    "X_train, X_test, y_train, y_test = train_test_split(X, y, test_size=0.2, random_state=0)"
   ]
  },
  {
   "cell_type": "code",
   "execution_count": 34,
   "metadata": {
    "collapsed": false
   },
   "outputs": [],
   "source": [
    "# Baseline predictions \n",
    "# Guessing 0 for everything\n",
    "\n",
    "baselinepredict = [0 for x in range(0, y_test.shape[0])]"
   ]
  },
  {
   "cell_type": "code",
   "execution_count": 35,
   "metadata": {
    "collapsed": false
   },
   "outputs": [
    {
     "data": {
      "text/plain": [
       "0.0009231905465288035"
      ]
     },
     "execution_count": 35,
     "metadata": {},
     "output_type": "execute_result"
    }
   ],
   "source": [
    "# Briar score on the xvaldiation\n",
    "\n",
    "metrics.brier_score_loss(y_test, baselinepredict)"
   ]
  },
  {
   "cell_type": "code",
   "execution_count": 36,
   "metadata": {
    "collapsed": false
   },
   "outputs": [
    {
     "name": "stderr",
     "output_type": "stream",
     "text": [
      "/usr/local/lib/python3.5/dist-packages/sklearn/utils/validation.py:526: DataConversionWarning: A column-vector y was passed when a 1d array was expected. Please change the shape of y to (n_samples, ), for example using ravel().\n",
      "  y = column_or_1d(y, warn=True)\n"
     ]
    }
   ],
   "source": [
    "# Logistic regression model\n",
    "\n",
    "model = LogisticRegression()\n",
    "model.fit(X_train, y_train)\n",
    "logisticpredict = model.predict(X_test)"
   ]
  },
  {
   "cell_type": "code",
   "execution_count": 37,
   "metadata": {
    "collapsed": false,
    "scrolled": true
   },
   "outputs": [
    {
     "name": "stdout",
     "output_type": "stream",
     "text": [
      "800\n",
      "4616\n"
     ]
    }
   ],
   "source": [
    "# How many 1's and 0's of the prediction\n",
    "\n",
    "print(np.count_nonzero(logisticpredict==1))\n",
    "print(np.count_nonzero(logisticpredict==0))"
   ]
  },
  {
   "cell_type": "code",
   "execution_count": 38,
   "metadata": {
    "collapsed": false
   },
   "outputs": [
    {
     "data": {
      "text/plain": [
       "0.1475258493353028"
      ]
     },
     "execution_count": 38,
     "metadata": {},
     "output_type": "execute_result"
    }
   ],
   "source": [
    "# Briar score on the xvalidation\n",
    "\n",
    "metrics.brier_score_loss(y_test, logisticpredict)"
   ]
  },
  {
   "cell_type": "code",
   "execution_count": 39,
   "metadata": {
    "collapsed": false
   },
   "outputs": [
    {
     "name": "stderr",
     "output_type": "stream",
     "text": [
      "/usr/local/lib/python3.5/dist-packages/ipykernel/__main__.py:4: DataConversionWarning: A column-vector y was passed when a 1d array was expected. Please change the shape of y to (n_samples,), for example using ravel().\n"
     ]
    }
   ],
   "source": [
    "# Random forest model\n",
    "\n",
    "model2 = RandomForestClassifier()\n",
    "model2.fit(X_train, y_train)\n",
    "forestpredict = model2.predict(X_test)"
   ]
  },
  {
   "cell_type": "code",
   "execution_count": 40,
   "metadata": {
    "collapsed": false
   },
   "outputs": [
    {
     "name": "stdout",
     "output_type": "stream",
     "text": [
      "570\n",
      "4839\n"
     ]
    }
   ],
   "source": [
    "# How many 1's and 0's of the prediction\n",
    "\n",
    "print(np.count_nonzero(forestpredict==1))\n",
    "print(np.count_nonzero(forestpredict==0))"
   ]
  },
  {
   "cell_type": "code",
   "execution_count": 41,
   "metadata": {
    "collapsed": false
   },
   "outputs": [
    {
     "ename": "ValueError",
     "evalue": "y_prob contains values greater than 1.",
     "output_type": "error",
     "traceback": [
      "\u001b[0;31m---------------------------------------------------------------------------\u001b[0m",
      "\u001b[0;31mValueError\u001b[0m                                Traceback (most recent call last)",
      "\u001b[0;32m<ipython-input-41-4f575c8bded9>\u001b[0m in \u001b[0;36m<module>\u001b[0;34m()\u001b[0m\n\u001b[1;32m      1\u001b[0m \u001b[0;31m# Briar score on the xvalidation\u001b[0m\u001b[0;34m\u001b[0m\u001b[0;34m\u001b[0m\u001b[0m\n\u001b[1;32m      2\u001b[0m \u001b[0;34m\u001b[0m\u001b[0m\n\u001b[0;32m----> 3\u001b[0;31m \u001b[0mmetrics\u001b[0m\u001b[0;34m.\u001b[0m\u001b[0mbrier_score_loss\u001b[0m\u001b[0;34m(\u001b[0m\u001b[0my_test\u001b[0m\u001b[0;34m,\u001b[0m \u001b[0mforestpredict\u001b[0m\u001b[0;34m)\u001b[0m\u001b[0;34m\u001b[0m\u001b[0m\n\u001b[0m",
      "\u001b[0;32m/usr/local/lib/python3.5/dist-packages/sklearn/metrics/classification.py\u001b[0m in \u001b[0;36mbrier_score_loss\u001b[0;34m(y_true, y_prob, sample_weight, pos_label)\u001b[0m\n\u001b[1;32m   1884\u001b[0m         \u001b[0mpos_label\u001b[0m \u001b[0;34m=\u001b[0m \u001b[0my_true\u001b[0m\u001b[0;34m.\u001b[0m\u001b[0mmax\u001b[0m\u001b[0;34m(\u001b[0m\u001b[0;34m)\u001b[0m\u001b[0;34m\u001b[0m\u001b[0m\n\u001b[1;32m   1885\u001b[0m     \u001b[0my_true\u001b[0m \u001b[0;34m=\u001b[0m \u001b[0mnp\u001b[0m\u001b[0;34m.\u001b[0m\u001b[0marray\u001b[0m\u001b[0;34m(\u001b[0m\u001b[0my_true\u001b[0m \u001b[0;34m==\u001b[0m \u001b[0mpos_label\u001b[0m\u001b[0;34m,\u001b[0m \u001b[0mint\u001b[0m\u001b[0;34m)\u001b[0m\u001b[0;34m\u001b[0m\u001b[0m\n\u001b[0;32m-> 1886\u001b[0;31m     \u001b[0my_true\u001b[0m \u001b[0;34m=\u001b[0m \u001b[0m_check_binary_probabilistic_predictions\u001b[0m\u001b[0;34m(\u001b[0m\u001b[0my_true\u001b[0m\u001b[0;34m,\u001b[0m \u001b[0my_prob\u001b[0m\u001b[0;34m)\u001b[0m\u001b[0;34m\u001b[0m\u001b[0m\n\u001b[0m\u001b[1;32m   1887\u001b[0m     \u001b[0;32mreturn\u001b[0m \u001b[0mnp\u001b[0m\u001b[0;34m.\u001b[0m\u001b[0maverage\u001b[0m\u001b[0;34m(\u001b[0m\u001b[0;34m(\u001b[0m\u001b[0my_true\u001b[0m \u001b[0;34m-\u001b[0m \u001b[0my_prob\u001b[0m\u001b[0;34m)\u001b[0m \u001b[0;34m**\u001b[0m \u001b[0;36m2\u001b[0m\u001b[0;34m,\u001b[0m \u001b[0mweights\u001b[0m\u001b[0;34m=\u001b[0m\u001b[0msample_weight\u001b[0m\u001b[0;34m)\u001b[0m\u001b[0;34m\u001b[0m\u001b[0m\n",
      "\u001b[0;32m/usr/local/lib/python3.5/dist-packages/sklearn/metrics/classification.py\u001b[0m in \u001b[0;36m_check_binary_probabilistic_predictions\u001b[0;34m(y_true, y_prob)\u001b[0m\n\u001b[1;32m   1802\u001b[0m \u001b[0;34m\u001b[0m\u001b[0m\n\u001b[1;32m   1803\u001b[0m     \u001b[0;32mif\u001b[0m \u001b[0my_prob\u001b[0m\u001b[0;34m.\u001b[0m\u001b[0mmax\u001b[0m\u001b[0;34m(\u001b[0m\u001b[0;34m)\u001b[0m \u001b[0;34m>\u001b[0m \u001b[0;36m1\u001b[0m\u001b[0;34m:\u001b[0m\u001b[0;34m\u001b[0m\u001b[0m\n\u001b[0;32m-> 1804\u001b[0;31m         \u001b[0;32mraise\u001b[0m \u001b[0mValueError\u001b[0m\u001b[0;34m(\u001b[0m\u001b[0;34m\"y_prob contains values greater than 1.\"\u001b[0m\u001b[0;34m)\u001b[0m\u001b[0;34m\u001b[0m\u001b[0m\n\u001b[0m\u001b[1;32m   1805\u001b[0m \u001b[0;34m\u001b[0m\u001b[0m\n\u001b[1;32m   1806\u001b[0m     \u001b[0;32mif\u001b[0m \u001b[0my_prob\u001b[0m\u001b[0;34m.\u001b[0m\u001b[0mmin\u001b[0m\u001b[0;34m(\u001b[0m\u001b[0;34m)\u001b[0m \u001b[0;34m<\u001b[0m \u001b[0;36m0\u001b[0m\u001b[0;34m:\u001b[0m\u001b[0;34m\u001b[0m\u001b[0m\n",
      "\u001b[0;31mValueError\u001b[0m: y_prob contains values greater than 1."
     ]
    }
   ],
   "source": [
    "# Briar score on the xvalidation\n",
    "\n",
    "metrics.brier_score_loss(y_test, forestpredict)"
   ]
  },
  {
   "cell_type": "code",
   "execution_count": 42,
   "metadata": {
    "collapsed": true
   },
   "outputs": [],
   "source": [
    "import xgboost as xgb"
   ]
  },
  {
   "cell_type": "code",
   "execution_count": 43,
   "metadata": {
    "collapsed": false
   },
   "outputs": [
    {
     "name": "stderr",
     "output_type": "stream",
     "text": [
      "/usr/local/lib/python3.5/dist-packages/sklearn/preprocessing/label.py:108: DataConversionWarning: A column-vector y was passed when a 1d array was expected. Please change the shape of y to (n_samples, ), for example using ravel().\n",
      "  y = column_or_1d(y, warn=True)\n",
      "/usr/local/lib/python3.5/dist-packages/sklearn/preprocessing/label.py:143: DataConversionWarning: A column-vector y was passed when a 1d array was expected. Please change the shape of y to (n_samples, ), for example using ravel().\n",
      "  y = column_or_1d(y, warn=True)\n"
     ]
    }
   ],
   "source": [
    "# XGB Boost model\n",
    "\n",
    "gbm = xgb.XGBClassifier(max_depth=3, n_estimators=300, learning_rate=0.05).fit(X_train, y_train)\n",
    "xgbpredict = gbm.predict(X_test)"
   ]
  },
  {
   "cell_type": "code",
   "execution_count": 44,
   "metadata": {
    "collapsed": false
   },
   "outputs": [
    {
     "name": "stdout",
     "output_type": "stream",
     "text": [
      "505\n",
      "4911\n"
     ]
    }
   ],
   "source": [
    "# How many 1's and 0's of the prediction\n",
    "\n",
    "print(np.count_nonzero(xgbpredict==1))\n",
    "print(np.count_nonzero(xgbpredict==0))"
   ]
  },
  {
   "cell_type": "code",
   "execution_count": 45,
   "metadata": {
    "collapsed": false
   },
   "outputs": [
    {
     "data": {
      "text/plain": [
       "0.093057607090103397"
      ]
     },
     "execution_count": 45,
     "metadata": {},
     "output_type": "execute_result"
    }
   ],
   "source": [
    "metrics.brier_score_loss(y_test, xgbpredict)"
   ]
  },
  {
   "cell_type": "code",
   "execution_count": 47,
   "metadata": {
    "collapsed": false
   },
   "outputs": [],
   "source": [
    "df = pd.read_csv('../data/finalWeek.csv')\n"
   ]
  },
  {
   "cell_type": "code",
   "execution_count": 56,
   "metadata": {
    "collapsed": false
   },
   "outputs": [],
   "source": [
    "yans, Xans = dmatrices('NEXT_EGGS ~ QUANTITY + BASE_SPEND_AMT + NET_SPEND_AMT + LOY_CARD_DISC + COUPON_DISC + GET_EGGS', df, return_type=\"dataframe\")"
   ]
  },
  {
   "cell_type": "code",
   "execution_count": 57,
   "metadata": {
    "collapsed": true
   },
   "outputs": [],
   "source": [
    "anspredict = gbm.predict(Xans)"
   ]
  },
  {
   "cell_type": "code",
   "execution_count": 58,
   "metadata": {
    "collapsed": false
   },
   "outputs": [
    {
     "name": "stdout",
     "output_type": "stream",
     "text": [
      "967\n"
     ]
    }
   ],
   "source": [
    "print(len(Xans))"
   ]
  },
  {
   "cell_type": "code",
   "execution_count": 53,
   "metadata": {
    "collapsed": false
   },
   "outputs": [
    {
     "name": "stdout",
     "output_type": "stream",
     "text": [
      "2386\n",
      "24689\n"
     ]
    }
   ],
   "source": [
    "print(np.count_nonzero(anspredict==1))\n",
    "print(np.count_nonzero(anspredict==0))"
   ]
  },
  {
   "cell_type": "code",
   "execution_count": 26,
   "metadata": {
    "collapsed": true
   },
   "outputs": [],
   "source": [
    "np.savetxt(\"../predictions.csv\", xgbpredict, delimiter=\",\")"
   ]
  },
  {
   "cell_type": "code",
   "execution_count": null,
   "metadata": {
    "collapsed": true
   },
   "outputs": [],
   "source": []
  }
 ],
 "metadata": {
  "kernelspec": {
   "display_name": "Python 3",
   "language": "python",
   "name": "python3"
  },
  "language_info": {
   "codemirror_mode": {
    "name": "ipython",
    "version": 3
   },
   "file_extension": ".py",
   "mimetype": "text/x-python",
   "name": "python",
   "nbconvert_exporter": "python",
   "pygments_lexer": "ipython3",
   "version": "3.5.2"
  }
 },
 "nbformat": 4,
 "nbformat_minor": 1
}
