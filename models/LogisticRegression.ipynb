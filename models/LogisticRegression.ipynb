{
 "cells": [
  {
   "cell_type": "code",
   "execution_count": 24,
   "metadata": {
    "collapsed": false
   },
   "outputs": [],
   "source": [
    "# Import packages\n",
    "\n",
    "import numpy as np\n",
    "import pandas as pd\n",
    "import matplotlib.pyplot as plt\n",
    "from sklearn.linear_model import LogisticRegression\n",
    "from sklearn.cross_validation import train_test_split\n",
    "from sklearn import metrics\n",
    "from sklearn.cross_validation import cross_val_score\n",
    "from sklearn.ensemble import RandomForestClassifier\n",
    "from patsy import dmatrices"
   ]
  },
  {
   "cell_type": "code",
   "execution_count": 5,
   "metadata": {
    "collapsed": false
   },
   "outputs": [],
   "source": [
    "dta = pd.read_csv('../data/dayData.csv')"
   ]
  },
  {
   "cell_type": "code",
   "execution_count": 6,
   "metadata": {
    "collapsed": false
   },
   "outputs": [
    {
     "data": {
      "text/html": [
       "<div>\n",
       "<table border=\"1\" class=\"dataframe\">\n",
       "  <thead>\n",
       "    <tr style=\"text-align: right;\">\n",
       "      <th></th>\n",
       "      <th>Unnamed: 0</th>\n",
       "      <th>household_key</th>\n",
       "      <th>DAY</th>\n",
       "      <th>QUANTITY</th>\n",
       "      <th>BASE_SPEND_AMT</th>\n",
       "      <th>NET_SPEND_AMT</th>\n",
       "      <th>LOY_CARD_DISC</th>\n",
       "      <th>COUPON_DISC</th>\n",
       "      <th>GET_EGGS</th>\n",
       "      <th>WEEK</th>\n",
       "    </tr>\n",
       "  </thead>\n",
       "  <tbody>\n",
       "    <tr>\n",
       "      <th>count</th>\n",
       "      <td>25797.000000</td>\n",
       "      <td>25797.000000</td>\n",
       "      <td>25797.000000</td>\n",
       "      <td>25797.000000</td>\n",
       "      <td>25797.000000</td>\n",
       "      <td>25797.000000</td>\n",
       "      <td>25797.000000</td>\n",
       "      <td>25797.000000</td>\n",
       "      <td>25797.000000</td>\n",
       "      <td>25797.0</td>\n",
       "    </tr>\n",
       "    <tr>\n",
       "      <th>mean</th>\n",
       "      <td>12899.000000</td>\n",
       "      <td>505.790402</td>\n",
       "      <td>101.607086</td>\n",
       "      <td>14.598752</td>\n",
       "      <td>42.941644</td>\n",
       "      <td>36.737954</td>\n",
       "      <td>-6.060541</td>\n",
       "      <td>-0.143149</td>\n",
       "      <td>0.146063</td>\n",
       "      <td>0.0</td>\n",
       "    </tr>\n",
       "    <tr>\n",
       "      <th>std</th>\n",
       "      <td>7447.096783</td>\n",
       "      <td>292.033469</td>\n",
       "      <td>58.799244</td>\n",
       "      <td>17.332974</td>\n",
       "      <td>51.432689</td>\n",
       "      <td>43.380989</td>\n",
       "      <td>8.682502</td>\n",
       "      <td>0.921875</td>\n",
       "      <td>0.367696</td>\n",
       "      <td>0.0</td>\n",
       "    </tr>\n",
       "    <tr>\n",
       "      <th>min</th>\n",
       "      <td>1.000000</td>\n",
       "      <td>1.000000</td>\n",
       "      <td>0.000000</td>\n",
       "      <td>1.000000</td>\n",
       "      <td>0.210000</td>\n",
       "      <td>0.210000</td>\n",
       "      <td>-208.020000</td>\n",
       "      <td>-43.280000</td>\n",
       "      <td>0.000000</td>\n",
       "      <td>0.0</td>\n",
       "    </tr>\n",
       "    <tr>\n",
       "      <th>25%</th>\n",
       "      <td>6450.000000</td>\n",
       "      <td>257.000000</td>\n",
       "      <td>51.000000</td>\n",
       "      <td>3.000000</td>\n",
       "      <td>10.060000</td>\n",
       "      <td>8.970000</td>\n",
       "      <td>-7.830000</td>\n",
       "      <td>0.000000</td>\n",
       "      <td>0.000000</td>\n",
       "      <td>0.0</td>\n",
       "    </tr>\n",
       "    <tr>\n",
       "      <th>50%</th>\n",
       "      <td>12899.000000</td>\n",
       "      <td>511.000000</td>\n",
       "      <td>102.000000</td>\n",
       "      <td>8.000000</td>\n",
       "      <td>24.190000</td>\n",
       "      <td>21.010000</td>\n",
       "      <td>-2.970000</td>\n",
       "      <td>0.000000</td>\n",
       "      <td>0.000000</td>\n",
       "      <td>0.0</td>\n",
       "    </tr>\n",
       "    <tr>\n",
       "      <th>75%</th>\n",
       "      <td>19348.000000</td>\n",
       "      <td>761.000000</td>\n",
       "      <td>152.000000</td>\n",
       "      <td>19.000000</td>\n",
       "      <td>55.730000</td>\n",
       "      <td>47.560000</td>\n",
       "      <td>-0.790000</td>\n",
       "      <td>0.000000</td>\n",
       "      <td>0.000000</td>\n",
       "      <td>0.0</td>\n",
       "    </tr>\n",
       "    <tr>\n",
       "      <th>max</th>\n",
       "      <td>25797.000000</td>\n",
       "      <td>1000.000000</td>\n",
       "      <td>204.000000</td>\n",
       "      <td>261.000000</td>\n",
       "      <td>816.790000</td>\n",
       "      <td>681.650000</td>\n",
       "      <td>0.000000</td>\n",
       "      <td>0.000000</td>\n",
       "      <td>3.000000</td>\n",
       "      <td>0.0</td>\n",
       "    </tr>\n",
       "  </tbody>\n",
       "</table>\n",
       "</div>"
      ],
      "text/plain": [
       "         Unnamed: 0  household_key           DAY      QUANTITY  \\\n",
       "count  25797.000000   25797.000000  25797.000000  25797.000000   \n",
       "mean   12899.000000     505.790402    101.607086     14.598752   \n",
       "std     7447.096783     292.033469     58.799244     17.332974   \n",
       "min        1.000000       1.000000      0.000000      1.000000   \n",
       "25%     6450.000000     257.000000     51.000000      3.000000   \n",
       "50%    12899.000000     511.000000    102.000000      8.000000   \n",
       "75%    19348.000000     761.000000    152.000000     19.000000   \n",
       "max    25797.000000    1000.000000    204.000000    261.000000   \n",
       "\n",
       "       BASE_SPEND_AMT  NET_SPEND_AMT  LOY_CARD_DISC   COUPON_DISC  \\\n",
       "count    25797.000000   25797.000000   25797.000000  25797.000000   \n",
       "mean        42.941644      36.737954      -6.060541     -0.143149   \n",
       "std         51.432689      43.380989       8.682502      0.921875   \n",
       "min          0.210000       0.210000    -208.020000    -43.280000   \n",
       "25%         10.060000       8.970000      -7.830000      0.000000   \n",
       "50%         24.190000      21.010000      -2.970000      0.000000   \n",
       "75%         55.730000      47.560000      -0.790000      0.000000   \n",
       "max        816.790000     681.650000       0.000000      0.000000   \n",
       "\n",
       "           GET_EGGS     WEEK  \n",
       "count  25797.000000  25797.0  \n",
       "mean       0.146063      0.0  \n",
       "std        0.367696      0.0  \n",
       "min        0.000000      0.0  \n",
       "25%        0.000000      0.0  \n",
       "50%        0.000000      0.0  \n",
       "75%        0.000000      0.0  \n",
       "max        3.000000      0.0  "
      ]
     },
     "execution_count": 6,
     "metadata": {},
     "output_type": "execute_result"
    }
   ],
   "source": [
    "dta.describe()"
   ]
  },
  {
   "cell_type": "code",
   "execution_count": 7,
   "metadata": {
    "collapsed": false
   },
   "outputs": [],
   "source": [
    "dta = dta.drop('Unnamed: 0', 1)"
   ]
  },
  {
   "cell_type": "code",
   "execution_count": 8,
   "metadata": {
    "collapsed": false
   },
   "outputs": [],
   "source": [
    "# Create X and y matrices\n",
    "# X is the input feature matrix\n",
    "# y is the column vector of the parameter we want to predict\n",
    "\n",
    "y, X = dmatrices('GET_EGGS ~ DAY + QUANTITY + BASE_SPEND_AMT + NET_SPEND_AMT + LOY_CARD_DISC + COUPON_DISC', dta, return_type=\"dataframe\")"
   ]
  },
  {
   "cell_type": "code",
   "execution_count": 36,
   "metadata": {
    "collapsed": false
   },
   "outputs": [
    {
     "name": "stdout",
     "output_type": "stream",
     "text": [
      "0.0    22160\n",
      "1.0     3510\n",
      "2.0      123\n",
      "3.0        4\n",
      "Name: GET_EGGS, dtype: int64\n",
      "0.146063495755\n"
     ]
    }
   ],
   "source": [
    "# Percentage of data with eggs\n",
    "\n",
    "print(y['GET_EGGS'].value_counts())\n",
    "freq = y.sum(axis=0)[0] / y.shape[0]\n",
    "print(freq)"
   ]
  },
  {
   "cell_type": "code",
   "execution_count": 37,
   "metadata": {
    "collapsed": true
   },
   "outputs": [],
   "source": [
    "# Baseline predictions \n",
    "# Guessing 0 for everything\n",
    "\n",
    "baselinepredict = [0 for x in range(0, y_test.shape[0])]"
   ]
  },
  {
   "cell_type": "code",
   "execution_count": 39,
   "metadata": {
    "collapsed": false
   },
   "outputs": [
    {
     "data": {
      "text/plain": [
       "0.00025839793281653745"
      ]
     },
     "execution_count": 39,
     "metadata": {},
     "output_type": "execute_result"
    }
   ],
   "source": [
    "# Briar score on the xvaldiation\n",
    "\n",
    "metrics.brier_score_loss(y_test, baselinepredict)"
   ]
  },
  {
   "cell_type": "code",
   "execution_count": null,
   "metadata": {
    "collapsed": true
   },
   "outputs": [],
   "source": [
    "# Cross Validation folds with 20/80 split\n",
    "\n",
    "X_train, X_test, y_train, y_test = train_test_split(X, y, test_size=0.2, random_state=0)"
   ]
  },
  {
   "cell_type": "code",
   "execution_count": 41,
   "metadata": {
    "collapsed": false
   },
   "outputs": [
    {
     "name": "stderr",
     "output_type": "stream",
     "text": [
      "/usr/local/lib/python3.5/dist-packages/sklearn/utils/validation.py:526: DataConversionWarning: A column-vector y was passed when a 1d array was expected. Please change the shape of y to (n_samples, ), for example using ravel().\n",
      "  y = column_or_1d(y, warn=True)\n"
     ]
    }
   ],
   "source": [
    "# Logistic regression model\n",
    "\n",
    "model = LogisticRegression()\n",
    "model.fit(X_train, y_train)\n",
    "logisticpredict = model.predict(X_test)"
   ]
  },
  {
   "cell_type": "code",
   "execution_count": 44,
   "metadata": {
    "collapsed": false,
    "scrolled": true
   },
   "outputs": [
    {
     "name": "stdout",
     "output_type": "stream",
     "text": [
      "267\n",
      "7473\n"
     ]
    }
   ],
   "source": [
    "# How many 1's and 0's of the prediction\n",
    "\n",
    "print(np.count_nonzero(logisticpredict==1))\n",
    "print(np.count_nonzero(logisticpredict==0))"
   ]
  },
  {
   "cell_type": "code",
   "execution_count": 45,
   "metadata": {
    "collapsed": false
   },
   "outputs": [
    {
     "data": {
      "text/plain": [
       "0.034496124031007755"
      ]
     },
     "execution_count": 45,
     "metadata": {},
     "output_type": "execute_result"
    }
   ],
   "source": [
    "# Briar score on the xvalidation\n",
    "\n",
    "metrics.brier_score_loss(y_test, logisticpredict)"
   ]
  },
  {
   "cell_type": "code",
   "execution_count": 46,
   "metadata": {
    "collapsed": false
   },
   "outputs": [
    {
     "name": "stderr",
     "output_type": "stream",
     "text": [
      "/usr/local/lib/python3.5/dist-packages/ipykernel/__main__.py:4: DataConversionWarning: A column-vector y was passed when a 1d array was expected. Please change the shape of y to (n_samples,), for example using ravel().\n"
     ]
    }
   ],
   "source": [
    "# Random forest model\n",
    "\n",
    "model2 = RandomForestClassifier()\n",
    "model2.fit(X_train, y_train)\n",
    "forestpredict = model2.predict(X_test)"
   ]
  },
  {
   "cell_type": "code",
   "execution_count": 47,
   "metadata": {
    "collapsed": false
   },
   "outputs": [
    {
     "name": "stdout",
     "output_type": "stream",
     "text": [
      "326\n",
      "7414\n"
     ]
    }
   ],
   "source": [
    "# How many 1's and 0's of the prediction\n",
    "\n",
    "print(np.count_nonzero(forestpredict==1))\n",
    "print(np.count_nonzero(forestpredict==0))"
   ]
  },
  {
   "cell_type": "code",
   "execution_count": 48,
   "metadata": {
    "collapsed": false
   },
   "outputs": [
    {
     "data": {
      "text/plain": [
       "0.042118863049095609"
      ]
     },
     "execution_count": 48,
     "metadata": {},
     "output_type": "execute_result"
    }
   ],
   "source": [
    "# Briar score on the xvalidation\n",
    "\n",
    "metrics.brier_score_loss(y_test, forestpredict)"
   ]
  },
  {
   "cell_type": "code",
   "execution_count": 49,
   "metadata": {
    "collapsed": true
   },
   "outputs": [],
   "source": [
    "import xgboost as xgb"
   ]
  },
  {
   "cell_type": "code",
   "execution_count": 50,
   "metadata": {
    "collapsed": false
   },
   "outputs": [
    {
     "name": "stderr",
     "output_type": "stream",
     "text": [
      "/usr/local/lib/python3.5/dist-packages/sklearn/preprocessing/label.py:108: DataConversionWarning: A column-vector y was passed when a 1d array was expected. Please change the shape of y to (n_samples, ), for example using ravel().\n",
      "  y = column_or_1d(y, warn=True)\n",
      "/usr/local/lib/python3.5/dist-packages/sklearn/preprocessing/label.py:143: DataConversionWarning: A column-vector y was passed when a 1d array was expected. Please change the shape of y to (n_samples, ), for example using ravel().\n",
      "  y = column_or_1d(y, warn=True)\n"
     ]
    }
   ],
   "source": [
    "# XGB Boost model\n",
    "\n",
    "gbm = xgb.XGBClassifier(max_depth=3, n_estimators=300, learning_rate=0.05).fit(X_train, y_train)\n",
    "xgbpredict = gbm.predict(X_test)"
   ]
  },
  {
   "cell_type": "code",
   "execution_count": null,
   "metadata": {
    "collapsed": true
   },
   "outputs": [],
   "source": [
    "# How many 1's and 0's of the prediction\n",
    "\n",
    "print(np.count_nonzero(forestpredict==1))\n",
    "print(np.count_nonzero(forestpredict==0))"
   ]
  },
  {
   "cell_type": "code",
   "execution_count": 32,
   "metadata": {
    "collapsed": false
   },
   "outputs": [
    {
     "data": {
      "text/plain": [
       "0.01925064599483204"
      ]
     },
     "execution_count": 32,
     "metadata": {},
     "output_type": "execute_result"
    }
   ],
   "source": [
    "metrics.brier_score_loss(y_test, predictions)"
   ]
  },
  {
   "cell_type": "code",
   "execution_count": null,
   "metadata": {
    "collapsed": true
   },
   "outputs": [],
   "source": []
  }
 ],
 "metadata": {
  "kernelspec": {
   "display_name": "Python 3",
   "language": "python",
   "name": "python3"
  },
  "language_info": {
   "codemirror_mode": {
    "name": "ipython",
    "version": 3
   },
   "file_extension": ".py",
   "mimetype": "text/x-python",
   "name": "python",
   "nbconvert_exporter": "python",
   "pygments_lexer": "ipython3",
   "version": "3.5.2"
  }
 },
 "nbformat": 4,
 "nbformat_minor": 1
}
